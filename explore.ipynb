{
 "cells": [
  {
   "cell_type": "code",
   "execution_count": 1,
   "metadata": {},
   "outputs": [],
   "source": [
    "import pandas as pd\n",
    "from ast import literal_eval\n",
    "\n",
    "pd.set_option('display.max_rows', 5000)\n",
    "pd.set_option('display.max_columns', 500)\n",
    "pd.set_option('display.width', 1000)"
   ]
  },
  {
   "cell_type": "code",
   "execution_count": 2,
   "metadata": {},
   "outputs": [
    {
     "name": "stdout",
     "output_type": "stream",
     "text": [
      "(4031, 67)\n"
     ]
    }
   ],
   "source": [
    "data_in = pd.read_csv(\"data-str-startupsg-gov-sg.csv\", na_values=['[]', '1 - 10'])\n",
    "\n",
    "print(data_in.shape)"
   ]
  },
  {
   "cell_type": "code",
   "execution_count": 3,
   "metadata": {},
   "outputs": [],
   "source": [
    "data_in.teamMembers = data_in.teamMembers.fillna('[]')"
   ]
  },
  {
   "cell_type": "code",
   "execution_count": 4,
   "metadata": {},
   "outputs": [],
   "source": [
    "# data_in.loc[data_in.teamMembers.notnull()][['teamMembers']]\n",
    "data_in['teamMembers'] = data_in.teamMembers.apply(eval)"
   ]
  },
  {
   "cell_type": "code",
   "execution_count": 5,
   "metadata": {},
   "outputs": [],
   "source": [
    "# data_in.loc[data_in.teamMembers.apply(type) != list]"
   ]
  },
  {
   "cell_type": "code",
   "execution_count": 6,
   "metadata": {},
   "outputs": [
    {
     "data": {
      "text/plain": [
       "(3010, 3010)"
      ]
     },
     "execution_count": 6,
     "metadata": {},
     "output_type": "execute_result"
    }
   ],
   "source": [
    "all_members = []\n",
    "row_ids = []\n",
    "\n",
    "for i, row in data_in.iterrows():\n",
    "    if data_in.loc[i, 'teamMembers'] != []:\n",
    "        all_members.extend(data_in.loc[i, 'teamMembers'])\n",
    "        row_ids.extend([i]*len((data_in.loc[i, 'teamMembers'])))\n",
    "\n",
    "len(row_ids), len(all_members)"
   ]
  },
  {
   "cell_type": "code",
   "execution_count": 7,
   "metadata": {},
   "outputs": [],
   "source": [
    "from flatten_json import flatten\n",
    "\n",
    "for i in range(len(all_members)):\n",
    "    all_members[i] = flatten(all_members[i])"
   ]
  },
  {
   "cell_type": "code",
   "execution_count": 61,
   "metadata": {},
   "outputs": [],
   "source": [
    "members_df = pd.DataFrame(all_members)\n",
    "members_df = members_df[members_df.sourceProfileLinkedIn_url.str.contains('www.linkedin.com', regex= True, na=False)]"
   ]
  },
  {
   "cell_type": "code",
   "execution_count": null,
   "metadata": {},
   "outputs": [],
   "source": [
    "data_in[['displayName', 'emailAddresses', 'registeredName', 'dateIncorporated', 'companyDescriptor', 'companyDescriptorDraft', 'sectors', 'businessModels', 'tags', 'companyDescription']]"
   ]
  },
  {
   "cell_type": "code",
   "execution_count": 36,
   "metadata": {},
   "outputs": [],
   "source": [
    "members_df[['sourceProfileName', 'sourceProfileLinkedIn_url', 'targetProfileName', 'email', \n",
    "'designations_0_name', 'designations_1_name', 'designations_2_name']].to_excel(\"startup-sg-team-members.xlsx\")"
   ]
  },
  {
   "cell_type": "code",
   "execution_count": 62,
   "metadata": {},
   "outputs": [],
   "source": [
    "members_df = members_df.join(data_in[['sectors', 'address.display']], how='inner')"
   ]
  },
  {
   "cell_type": "code",
   "execution_count": 64,
   "metadata": {},
   "outputs": [],
   "source": [
    "members_dfc = members_df[['sourceProfileName', 'sourceProfileLinkedIn_url', 'targetProfileName', 'email', 'sectors', 'address.display']]"
   ]
  },
  {
   "cell_type": "code",
   "execution_count": 68,
   "metadata": {},
   "outputs": [],
   "source": [
    "# members_dfc[members_dfc.sectors.str.contains('data', regex= True, na=False, case=False)]\n",
    "members_dfc[members_dfc['address.display'].str.contains('ayer rajah', regex= True, na=False, case=False)].to_csv(\"sg-member-ayer-rajah.csv\", index=False)"
   ]
  },
  {
   "cell_type": "code",
   "execution_count": null,
   "metadata": {},
   "outputs": [],
   "source": []
  }
 ],
 "metadata": {
  "interpreter": {
   "hash": "4122db12a72953886ab6fbce8751935c0853679916f15b5a356c9e3a1a4f9178"
  },
  "kernelspec": {
   "display_name": "Python 3.8.12 ('scrapping')",
   "language": "python",
   "name": "python3"
  },
  "language_info": {
   "codemirror_mode": {
    "name": "ipython",
    "version": 3
   },
   "file_extension": ".py",
   "mimetype": "text/x-python",
   "name": "python",
   "nbconvert_exporter": "python",
   "pygments_lexer": "ipython3",
   "version": "3.8.12"
  },
  "orig_nbformat": 4
 },
 "nbformat": 4,
 "nbformat_minor": 2
}
