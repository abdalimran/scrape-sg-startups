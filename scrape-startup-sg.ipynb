{
 "cells": [
  {
   "cell_type": "code",
   "execution_count": null,
   "metadata": {},
   "outputs": [],
   "source": [
    "import pandas as pd"
   ]
  },
  {
   "cell_type": "code",
   "execution_count": null,
   "metadata": {},
   "outputs": [],
   "source": [
    "pd.set_option('display.max_rows', 5000)\n",
    "pd.set_option('display.max_columns', 500)\n",
    "pd.set_option('display.width', 1000)"
   ]
  },
  {
   "cell_type": "code",
   "execution_count": null,
   "metadata": {},
   "outputs": [],
   "source": [
    "data = pd.DataFrame()\n",
    "\n",
    "for page in range(10, 4040, 10):\n",
    "    data = pd.concat([data, pd.read_json(f\"https://www.startupsg.gov.sg/api/v0/search/profiles/startup?type=listing&sort=name&from={page}\")])\n",
    "    print(f\"Page ---> {page} Done!\")"
   ]
  },
  {
   "cell_type": "code",
   "execution_count": null,
   "metadata": {},
   "outputs": [],
   "source": [
    "data_norm = pd.json_normalize(data.data)"
   ]
  },
  {
   "cell_type": "code",
   "execution_count": null,
   "metadata": {},
   "outputs": [],
   "source": [
    "data_ind = pd.DataFrame()\n",
    "\n",
    "for page in range(7030, 10000, 10):\n",
    "    data_ind = pd.concat([data_ind, pd.read_json(f\"https://www.startupsg.gov.sg/api/v0/search/profiles/individual?type=listing&sort=name&from={page}\")])\n",
    "    print(f\"Page ---> {page} Done!\")"
   ]
  },
  {
   "cell_type": "code",
   "execution_count": null,
   "metadata": {},
   "outputs": [],
   "source": []
  }
 ],
 "metadata": {
  "interpreter": {
   "hash": "4122db12a72953886ab6fbce8751935c0853679916f15b5a356c9e3a1a4f9178"
  },
  "kernelspec": {
   "display_name": "Python 3.8.12 ('scrapping')",
   "language": "python",
   "name": "python3"
  },
  "language_info": {
   "codemirror_mode": {
    "name": "ipython",
    "version": 3
   },
   "file_extension": ".py",
   "mimetype": "text/x-python",
   "name": "python",
   "nbconvert_exporter": "python",
   "pygments_lexer": "ipython3",
   "version": "3.8.12 | packaged by conda-forge | (default, Oct 12 2021, 21:25:50) \n[Clang 11.1.0 ]"
  },
  "orig_nbformat": 4
 },
 "nbformat": 4,
 "nbformat_minor": 2
}
